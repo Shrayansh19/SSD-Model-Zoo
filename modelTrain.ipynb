{
  "nbformat": 4,
  "nbformat_minor": 0,
  "metadata": {
    "accelerator": "GPU",
    "colab": {
      "name": "Untitled0.ipynb",
      "provenance": [],
      "collapsed_sections": []
    },
    "kernelspec": {
      "display_name": "Python 3",
      "name": "python3"
    },
    "language_info": {
      "name": "python"
    }
  },
  "cells": [
    {
      "cell_type": "code",
      "metadata": {
        "colab": {
          "base_uri": "https://localhost:8080/"
        },
        "id": "zV-ZEUlCI2u2",
        "outputId": "e43bffd7-ce75-4354-d03b-9afef72b634f"
      },
      "source": [
        "!git clone https://github.com/Shrayansh19/SSD-Model-Zoo.git"
      ],
      "execution_count": null,
      "outputs": [
        {
          "output_type": "stream",
          "text": [
            "Cloning into 'ssd.pytorch'...\n",
            "remote: Enumerating objects: 1451, done.\u001b[K\n",
            "remote: Total 1451 (delta 0), reused 0 (delta 0), pack-reused 1451\u001b[K\n",
            "Receiving objects: 100% (1451/1451), 104.36 MiB | 32.20 MiB/s, done.\n",
            "Resolving deltas: 100% (868/868), done.\n"
          ],
          "name": "stdout"
        }
      ]
    },
    {
      "cell_type": "code",
      "metadata": {
        "colab": {
          "base_uri": "https://localhost:8080/"
        },
        "id": "A6IH-84cJt6d",
        "outputId": "61a25770-a233-46d6-9db8-511b35110320"
      },
      "source": [
        "%cd ssd.pytorch/"
      ],
      "execution_count": null,
      "outputs": [
        {
          "output_type": "stream",
          "text": [
            "/content/ssd.pytorch\n"
          ],
          "name": "stdout"
        }
      ]
    },
    {
      "cell_type": "code",
      "metadata": {
        "id": "rLFNsfnuJ00h"
      },
      "source": [
        "# !pip install visdom\n",
        "# !python -m visdom.server"
      ],
      "execution_count": null,
      "outputs": []
    },
    {
      "cell_type": "code",
      "metadata": {
        "id": "xZTstJKhi1gd"
      },
      "source": [
        "!sh data/scripts/COCO2014.sh"
      ],
      "execution_count": null,
      "outputs": []
    },
    {
      "cell_type": "code",
      "metadata": {
        "id": "VNzfSO8t2X_n"
      },
      "source": [
        "!sh data/scripts/VOC2007.sh # <directory>"
      ],
      "execution_count": null,
      "outputs": []
    },
    {
      "cell_type": "code",
      "metadata": {
        "id": "uHeqKwW2LbRQ"
      },
      "source": [
        "!sh data/scripts/VOC2012.sh "
      ],
      "execution_count": null,
      "outputs": []
    },
    {
      "cell_type": "code",
      "metadata": {
        "id": "pIkJKYZQ2bX8"
      },
      "source": [
        "%mkdir weights\n",
        "%cd weights\n",
        "!wget https://s3.amazonaws.com/amdegroot-models/vgg16_reducedfc.pth"
      ],
      "execution_count": null,
      "outputs": []
    },
    {
      "cell_type": "code",
      "metadata": {
        "id": "FJxSA9HNMIlC"
      },
      "source": [
        "!python train.py"
      ],
      "execution_count": null,
      "outputs": []
    },
    {
      "cell_type": "code",
      "metadata": {
        "id": "P150ymcg2jFP"
      },
      "source": [
        "!python eval.py"
      ],
      "execution_count": null,
      "outputs": []
    }
  ]
}